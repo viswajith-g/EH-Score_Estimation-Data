{
 "cells": [
  {
   "cell_type": "code",
   "execution_count": 1,
   "metadata": {},
   "outputs": [],
   "source": [
    "import influxdb\n",
    "from matplotlib import pyplot as plt\n",
    "import pandas as pd\n",
    "import db_secrets"
   ]
  },
  {
   "cell_type": "code",
   "execution_count": 2,
   "metadata": {},
   "outputs": [],
   "source": [
    "HOST = db_secrets.HOST\n",
    "PORT = db_secrets.PORT\n",
    "USERNAME = db_secrets.USERNAME\n",
    "PASSWORD = db_secrets.PASSWORD\n",
    "DATABASE = db_secrets.DATABASE\n",
    "\n",
    "Sensor_list = db_secrets.SensorIdList\n",
    "\n",
    "QUERY_KEY = db_secrets.QUERY\n",
    "\n",
    "client = influxdb.InfluxDBClient(HOST, PORT, USERNAME, PASSWORD, DATABASE, ssl=True, verify_ssl=True)\n",
    "\n",
    "lux_list = []\n",
    "timestamp_list = []\n",
    "df_location_lux = []\n",
    "df_location_lux_resampled = []"
   ]
  },
  {
   "cell_type": "code",
   "execution_count": 3,
   "metadata": {},
   "outputs": [],
   "source": [
    "########################## Lux value queries #####################################\n",
    "\n",
    "for index, value in enumerate(Sensor_list):\n",
    "    \n",
    "    location_lux = []\n",
    "    location_timestamps = []\n",
    "    \n",
    "    location_vals = client.query('Select value from ' + QUERY_KEY + ' where time > now() - 60d and device_id  = ' + value)\n",
    "    for val in location_vals:\n",
    "        for vals in val:\n",
    "            val_location = vals\n",
    "\n",
    "            location_lux.append(val_location['value'])\n",
    "            location_timestamps.append(val_location['time'])\n",
    "    \n",
    "    lux_list.append(location_lux)\n",
    "    timestamp_list.append(location_timestamps)"
   ]
  },
  {
   "cell_type": "code",
   "execution_count": 4,
   "metadata": {},
   "outputs": [],
   "source": [
    "############# DF creation ###################################\n",
    "\n",
    "for index, value in enumerate(lux_list):\n",
    "    location_lux_df = pd.DataFrame(\n",
    "        {\n",
    "            'time': timestamp_list[index],\n",
    "            'Illumination(lx)': lux_list[index], \n",
    "        }\n",
    "    )\n",
    "    df_location_lux.append(location_lux_df)\n",
    "    "
   ]
  },
  {
   "cell_type": "code",
   "execution_count": null,
   "metadata": {},
   "outputs": [],
   "source": [
    "############################## Resampling data to 1 min intervals ##################################################\n",
    "\n",
    "for index, value in enumerate(lux_list):\n",
    "    df_location_lux[index]['time'] = pd.to_datetime(df_location_lux[index]['time'], format='%Y-%m-%dT%H:%M:%S.%fZ', errors='coerce')\n",
    "    df_location_lux[index].set_index('time', inplace=True)\n",
    "    df_location_lux_resampled.append(df_location_lux[index].resample('T').first().fillna(method='ffill').reset_index())\n",
    "    df_location_lux[index] = df_location_lux[index].reset_index()"
   ]
  },
  {
   "cell_type": "code",
   "execution_count": null,
   "metadata": {},
   "outputs": [],
   "source": [
    "######################## Calculate light/dark time #########################\n",
    "\n",
    "# df_list = []          # list of dfs\n",
    "# location_thresholds = []  # choose thresholds for every area if they are different\n",
    "# location_list = []        # list of locations\n",
    "\n",
    "\n",
    "# for idx, df in enumerate(df_list):\n",
    "\n",
    "#     threshold = location_thresholds[idx]\n",
    "#     mask_on = df['lux_vals'] > threshold\n",
    "#     mask_off = df['lux_vals'] <= threshold\n",
    "\n",
    "#     total_on_duration = pd.Timedelta(seconds=0)\n",
    "#     total_off_duration = pd.Timedelta(seconds=0)  \n",
    "\n",
    "#     for i in range(len(df)):\n",
    "#         if mask_on[i]:\n",
    "#             if i < len(df) - 1:\n",
    "#                 duration = df['time'][i + 1] - df['time'][i]\n",
    "#                 total_on_duration += duration\n",
    "#         elif mask_off[i]:\n",
    "#             if i < len(df) - 1:\n",
    "#                 duration = df['time'][i + 1] - df['time'][i]\n",
    "#                 total_off_duration += duration\n",
    "\n",
    " \n",
    "#     total_light_hours = total_on_duration.total_seconds() / 3600\n",
    "#     total_dark_hours = total_off_duration.total_seconds() / 3600  \n",
    "\n",
    "#     print(\"Total hours {} is in 'on' state: {}\".format(location_list[idx], total_light_hours))\n",
    "#     print(\"Total hours {} is in 'off' state: {}\".format(location_list[idx], total_dark_hours))"
   ]
  },
  {
   "cell_type": "code",
   "execution_count": 37,
   "metadata": {},
   "outputs": [],
   "source": [
    "######################## Saving to hdf5 files ##############################\n",
    "\n",
    "for index, value in enumerate(df_location_lux):\n",
    "    value.to_hdf('h5_data/direct/location_' + str(index + 1) + '_60days_historic_data.h5', key = 'data', mode='w')\n",
    "    df_location_lux_resampled[index].to_hdf('h5_data/resampled/location_' + str(index + 1) + '_60days_minute_step_historic_data.h5', key = 'data', mode='w')"
   ]
  },
  {
   "cell_type": "code",
   "execution_count": null,
   "metadata": {},
   "outputs": [],
   "source": [
    "################################### Plots #####################################\n",
    "\n",
    "for index, value in enumerate(df_location_lux):\n",
    "    value.plot(x = 'time', y = 'Illumination(lx)', title='Location ' + str(index + 1) + ' Lux Values for 60 days 1 min interval', xlabel='Time', ylabel='Illuminance (Lux)', color='green')\n",
    "    df_location_lux_resampled[index].plot(x = 'time', y = 'Illumination(lx)', title='Location ' + str(index + 1) + ' Lux Values for 60 days', xlabel='Time', ylabel='Illuminance (Lux)', color='purple')\n",
    "\n",
    "plt.show()"
   ]
  }
 ],
 "metadata": {
  "kernelspec": {
   "display_name": "Python 3",
   "language": "python",
   "name": "python3"
  },
  "language_info": {
   "codemirror_mode": {
    "name": "ipython",
    "version": 3
   },
   "file_extension": ".py",
   "mimetype": "text/x-python",
   "name": "python",
   "nbconvert_exporter": "python",
   "pygments_lexer": "ipython3",
   "version": "3.11.5"
  }
 },
 "nbformat": 4,
 "nbformat_minor": 2
}
